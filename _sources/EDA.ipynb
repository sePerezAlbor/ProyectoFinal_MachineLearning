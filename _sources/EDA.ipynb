{
 "cells": [
  {
   "cell_type": "markdown",
   "id": "be167082",
   "metadata": {},
   "source": [
    "# **Análisis Exploratorio de Datos (EDA)**"
   ]
  },
  {
   "cell_type": "markdown",
   "id": "1d24a392",
   "metadata": {},
   "source": [
    "## **Librerías y modulos necesarios**"
   ]
  },
  {
   "cell_type": "code",
   "execution_count": 7,
   "id": "3aadd494",
   "metadata": {},
   "outputs": [],
   "source": [
    "import pandas as pd"
   ]
  },
  {
   "cell_type": "markdown",
   "id": "b3513d1f",
   "metadata": {},
   "source": [
    "## **Importación de datos**"
   ]
  },
  {
   "cell_type": "markdown",
   "id": "9b687b37",
   "metadata": {},
   "source": [
    "Como se señaló en la sección de [contextualización](./contextualizacion.md), los datos utilizados provienen de la competencia [Give Me Some Credit](https://www.kaggle.com/competitions/GiveMeSomeCredit), desde donde pueden descargarse. Para facilitar el trabajo reproducible en este proyecto, hemos alojado los conjuntos de entrenamiento y prueba proporcionados por la competencia en el repositorio de GitHub [sePerezAlbor/Data](https://github.com/sePerezAlbor/Data), específicamente los archivos `GiveMeSomeCredit-cs-training.csv` y `GiveMeSomeCredit-cs-test.csv`. Para importar los datos se recomienza utilizar el siguiente código."
   ]
  },
  {
   "cell_type": "code",
   "execution_count": 8,
   "id": "8299751b",
   "metadata": {},
   "outputs": [],
   "source": [
    "##### TRAINING DATA\n",
    "url = \"https://raw.githubusercontent.com/sePerezAlbor/Data/refs/heads/main/GiveMeSomeCredit-cs-training.csv\"\n",
    "train_data = pd.read_csv(url, na_values=\"NA\", index_col=0)\n",
    "\n",
    "##### TEST DATA\n",
    "url = \"https://raw.githubusercontent.com/sePerezAlbor/Data/refs/heads/main/GiveMeSomeCredit-cs-test.csv\"\n",
    "test_data = pd.read_csv(url, na_values=\"NA\", index_col=0)"
   ]
  },
  {
   "cell_type": "markdown",
   "id": "d0b3792f",
   "metadata": {},
   "source": [
    "## **Renombrar columnas**\n",
    "\n",
    "Esto es opcional y puede omitirse si se prefiere trabajar con los nombres de columnas originales."
   ]
  },
  {
   "cell_type": "code",
   "execution_count": 9,
   "id": "fcfe7ffe",
   "metadata": {},
   "outputs": [],
   "source": [
    "train_data = train_data.rename(columns={\n",
    "    'SeriousDlqin2yrs': 'mora_grave_2anios',\n",
    "    'RevolvingUtilizationOfUnsecuredLines': 'utilizacion_lineas_credito',\n",
    "    'age': 'edad',\n",
    "    'NumberOfTime30-59DaysPastDueNotWorse': 'veces_mora_30_59_dias_2anios',\n",
    "    'DebtRatio': 'razon_deuda_ingreso',\n",
    "    'MonthlyIncome': 'ingreso_mensual',\n",
    "    'NumberOfOpenCreditLinesAndLoans': 'num_creditos_lineas_abiertas',\n",
    "    'NumberOfTimes90DaysLate': 'veces_mora_90_dias',\n",
    "    'NumberRealEstateLoansOrLines': 'num_prestamos_inmobiliarios',\n",
    "    'NumberOfTime60-89DaysPastDueNotWorse': 'veces_mora_60_89_dias_2anios',\n",
    "    'NumberOfDependents': 'num_dependientes'\n",
    "})"
   ]
  },
  {
   "cell_type": "markdown",
   "id": "4a1fb1c7",
   "metadata": {},
   "source": [
    "## **Diccionario de variables**"
   ]
  },
  {
   "cell_type": "markdown",
   "id": "9d1e81fd",
   "metadata": {},
   "source": [
    "```{list-table} Diccionario de variables Give Me Some Credit\n",
    ":header-rows: 1\n",
    ":name: tabla-diccionario-gmsc\n",
    "\n",
    "* - Variable\n",
    "  - Variable Renombrada\n",
    "  - Descripción\n",
    "  - Tipo\n",
    "* - `SeriousDlqin2yrs`\n",
    "  - `mora_grave_2anios`\n",
    "  - Persona con morosidad de 90 días o más.\n",
    "  - Y/N\n",
    "* - `RevolvingUtilizationOfUnsecuredLines`\n",
    "  - `utilizacion_lineas_credito`\n",
    "  - Saldo total de tarjetas de crédito y líneas de crédito personales, excepto bienes inmuebles y deudas sin cuotas fijas, como préstamos para automóviles, dividido por la suma de los límites de crédito.\n",
    "  - percentage\n",
    "* - `age`\n",
    "  - `edad`\n",
    "  - Edad del prestatario en años.\n",
    "  - integer\n",
    "* - `NumberOfTime30-59DaysPastDueNotWorse`\n",
    "  - `veces_mora_30_59_dias_2anios`\n",
    "  - Número de veces que el prestatario ha tenido un retraso de entre 30 y 59 días, pero sin agravarse, en los últimos dos años.\n",
    "  - integer\n",
    "* - `DebtRatio`\n",
    "  - `razon_deuda_ingreso`\n",
    "  - Pagos mensuales de deudas, pensión alimenticia y gastos de manutención divididos entre los ingresos mensuales.\n",
    "  - percentage\n",
    "* - `MonthlyIncome`\n",
    "  - `ingreso_mensual`\n",
    "  - Ingresos mensuales.\n",
    "  - real\n",
    "* - `NumberOfOpenCreditLinesAndLoans`\n",
    "  - `num_creditos_lineas_abiertas`\n",
    "  - Número de préstamos abiertos (préstamos a plazos, como préstamos para automóviles o hipotecas) y líneas de crédito (por ejemplo, tarjetas de crédito).\n",
    "  - integer\n",
    "* - `NumberOfTimes90DaysLate`\n",
    "  - `veces_mora_90_dias`\n",
    "  - Número de veces que el prestatario ha acumulado un retraso de 90 días o más en el pago.\n",
    "  - integer\n",
    "* - `NumberRealEstateLoansOrLines`\n",
    "  - `num_prestamos_inmobiliarios`\n",
    "  - Número de préstamos hipotecarios e inmobiliarios, incluidas las líneas de crédito con garantía hipotecaria.\n",
    "  - integer\n",
    "* - `NumberOfTime60-89DaysPastDueNotWorse`\n",
    "  - `veces_mora_60_89_dias_2anios`\n",
    "  - Número de veces que el prestatario ha tenido un retraso de entre 60 y 89 días, pero sin agravarse, en los últimos dos años.\n",
    "  - integer\n",
    "* - `NumberOfDependents`\n",
    "  - `num_dependientes`\n",
    "  - Número de personas a cargo en la familia, excluyéndose a sí mismos (cónyuge, hijos, etc.).\n",
    "  - integer\n"
   ]
  },
  {
   "cell_type": "markdown",
   "id": "788f94d6",
   "metadata": {},
   "source": [
    "# **Conjunto de datos**"
   ]
  },
  {
   "cell_type": "code",
   "execution_count": 10,
   "id": "8348fa10",
   "metadata": {},
   "outputs": [
    {
     "data": {
      "text/html": [
       "<div>\n",
       "<style scoped>\n",
       "    .dataframe tbody tr th:only-of-type {\n",
       "        vertical-align: middle;\n",
       "    }\n",
       "\n",
       "    .dataframe tbody tr th {\n",
       "        vertical-align: top;\n",
       "    }\n",
       "\n",
       "    .dataframe thead th {\n",
       "        text-align: right;\n",
       "    }\n",
       "</style>\n",
       "<table border=\"1\" class=\"dataframe\">\n",
       "  <thead>\n",
       "    <tr style=\"text-align: right;\">\n",
       "      <th></th>\n",
       "      <th>mora_grave_2anios</th>\n",
       "      <th>utilizacion_lineas_credito</th>\n",
       "      <th>edad</th>\n",
       "      <th>veces_mora_30_59_dias_2anios</th>\n",
       "      <th>razon_deuda_ingreso</th>\n",
       "      <th>ingreso_mensual</th>\n",
       "      <th>num_creditos_lineas_abiertas</th>\n",
       "      <th>veces_mora_90_dias</th>\n",
       "      <th>num_prestamos_inmobiliarios</th>\n",
       "      <th>veces_mora_60_89_dias_2anios</th>\n",
       "      <th>num_dependientes</th>\n",
       "    </tr>\n",
       "  </thead>\n",
       "  <tbody>\n",
       "    <tr>\n",
       "      <th>1</th>\n",
       "      <td>1</td>\n",
       "      <td>0.766127</td>\n",
       "      <td>45</td>\n",
       "      <td>2</td>\n",
       "      <td>0.802982</td>\n",
       "      <td>9120.0</td>\n",
       "      <td>13</td>\n",
       "      <td>0</td>\n",
       "      <td>6</td>\n",
       "      <td>0</td>\n",
       "      <td>2.0</td>\n",
       "    </tr>\n",
       "    <tr>\n",
       "      <th>2</th>\n",
       "      <td>0</td>\n",
       "      <td>0.957151</td>\n",
       "      <td>40</td>\n",
       "      <td>0</td>\n",
       "      <td>0.121876</td>\n",
       "      <td>2600.0</td>\n",
       "      <td>4</td>\n",
       "      <td>0</td>\n",
       "      <td>0</td>\n",
       "      <td>0</td>\n",
       "      <td>1.0</td>\n",
       "    </tr>\n",
       "    <tr>\n",
       "      <th>3</th>\n",
       "      <td>0</td>\n",
       "      <td>0.658180</td>\n",
       "      <td>38</td>\n",
       "      <td>1</td>\n",
       "      <td>0.085113</td>\n",
       "      <td>3042.0</td>\n",
       "      <td>2</td>\n",
       "      <td>1</td>\n",
       "      <td>0</td>\n",
       "      <td>0</td>\n",
       "      <td>0.0</td>\n",
       "    </tr>\n",
       "    <tr>\n",
       "      <th>4</th>\n",
       "      <td>0</td>\n",
       "      <td>0.233810</td>\n",
       "      <td>30</td>\n",
       "      <td>0</td>\n",
       "      <td>0.036050</td>\n",
       "      <td>3300.0</td>\n",
       "      <td>5</td>\n",
       "      <td>0</td>\n",
       "      <td>0</td>\n",
       "      <td>0</td>\n",
       "      <td>0.0</td>\n",
       "    </tr>\n",
       "    <tr>\n",
       "      <th>5</th>\n",
       "      <td>0</td>\n",
       "      <td>0.907239</td>\n",
       "      <td>49</td>\n",
       "      <td>1</td>\n",
       "      <td>0.024926</td>\n",
       "      <td>63588.0</td>\n",
       "      <td>7</td>\n",
       "      <td>0</td>\n",
       "      <td>1</td>\n",
       "      <td>0</td>\n",
       "      <td>0.0</td>\n",
       "    </tr>\n",
       "  </tbody>\n",
       "</table>\n",
       "</div>"
      ],
      "text/plain": [
       "   mora_grave_2anios  utilizacion_lineas_credito  edad  \\\n",
       "1                  1                    0.766127    45   \n",
       "2                  0                    0.957151    40   \n",
       "3                  0                    0.658180    38   \n",
       "4                  0                    0.233810    30   \n",
       "5                  0                    0.907239    49   \n",
       "\n",
       "   veces_mora_30_59_dias_2anios  razon_deuda_ingreso  ingreso_mensual  \\\n",
       "1                             2             0.802982           9120.0   \n",
       "2                             0             0.121876           2600.0   \n",
       "3                             1             0.085113           3042.0   \n",
       "4                             0             0.036050           3300.0   \n",
       "5                             1             0.024926          63588.0   \n",
       "\n",
       "   num_creditos_lineas_abiertas  veces_mora_90_dias  \\\n",
       "1                            13                   0   \n",
       "2                             4                   0   \n",
       "3                             2                   1   \n",
       "4                             5                   0   \n",
       "5                             7                   0   \n",
       "\n",
       "   num_prestamos_inmobiliarios  veces_mora_60_89_dias_2anios  num_dependientes  \n",
       "1                            6                             0               2.0  \n",
       "2                            0                             0               1.0  \n",
       "3                            0                             0               0.0  \n",
       "4                            0                             0               0.0  \n",
       "5                            1                             0               0.0  "
      ]
     },
     "execution_count": 10,
     "metadata": {},
     "output_type": "execute_result"
    }
   ],
   "source": [
    "train_data.head() "
   ]
  },
  {
   "cell_type": "markdown",
   "id": "b743e2a4",
   "metadata": {},
   "source": [
    "Se observa que las variables abarcan tanto características financieras como demográficas, incluyendo la edad del solicitante y el número de dependientes, así como múltiples indicadores relacionados con su comportamiento crediticio, tales como la utilización de líneas de crédito, la frecuencia de moras en distintos rangos de días, la relación deuda–ingreso, el ingreso mensual y el número de préstamos o líneas de crédito abiertas. Esta combinación de atributos, descritos en detalle en el [diccionario de variables Give Me Some Credit](tabla-diccionario-gmsc), proporciona una base integral para analizar patrones de riesgo y establecer relaciones entre factores personales y financieros que pueden influir en la probabilidad de morosidad grave.\n"
   ]
  }
 ],
 "metadata": {
  "kernelspec": {
   "display_name": "pf_ml_venv",
   "language": "python",
   "name": "python3"
  },
  "language_info": {
   "codemirror_mode": {
    "name": "ipython",
    "version": 3
   },
   "file_extension": ".py",
   "mimetype": "text/x-python",
   "name": "python",
   "nbconvert_exporter": "python",
   "pygments_lexer": "ipython3",
   "version": "3.11.13"
  }
 },
 "nbformat": 4,
 "nbformat_minor": 5
}
