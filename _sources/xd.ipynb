{
 "cells": [
  {
   "cell_type": "markdown",
   "id": "be167082",
   "metadata": {},
   "source": [
    "# **Análisis Exploratorio de Datos (EDA)**"
   ]
  },
  {
   "cell_type": "markdown",
   "id": "4a1fb1c7",
   "metadata": {},
   "source": [
    "## **Diccionario de variables**"
   ]
  },
  {
   "cell_type": "markdown",
   "id": "9d1e81fd",
   "metadata": {},
   "source": [
    "```{list-table} Diccionario de variables Give Me Some Credit\n",
    ":header-rows: 1\n",
    ":name: tabla-diccionario-gmsc\n",
    "\n",
    "* - Variable\n",
    "  - Variable Renombrada\n",
    "  - Descripción\n",
    "  - Tipo\n",
    "* - SeriousDlqin2yrs\n",
    "  - mora_grave_2anios\n",
    "  - Persona con morosidad de 90 días o más.\n",
    "  - Y/N\n",
    "* - RevolvingUtilizationOfUnsecuredLines\n",
    "  - utilizacion_lineas_credito\n",
    "  - Saldo total de tarjetas de crédito y líneas de crédito personales, excepto bienes inmuebles y deudas sin cuotas fijas, como préstamos para automóviles, dividido por la suma de los límites de crédito.\n",
    "  - percentage\n",
    "* - age\n",
    "  - edad\n",
    "  - Edad del prestatario en años.\n",
    "  - integer\n",
    "* - NumberOfTime30-59DaysPastDueNotWorse\n",
    "  - veces_mora_30_59_dias_2anios\n",
    "  - Número de veces que el prestatario ha tenido un retraso de entre 30 y 59 días, pero sin agravarse, en los últimos dos años.\n",
    "  - integer\n",
    "* - DebtRatio\n",
    "  - razon_deuda_ingreso\n",
    "  - Pagos mensuales de deudas, pensión alimenticia y gastos de manutención divididos entre los ingresos mensuales.\n",
    "  - percentage\n",
    "* - MonthlyIncome\n",
    "  - ingreso_mensual\n",
    "  - Ingresos mensuales.\n",
    "  - real\n",
    "* - NumberOfOpenCreditLinesAndLoans\n",
    "  - num_creditos_lineas_abiertas\n",
    "  - Número de préstamos abiertos (préstamos a plazos, como préstamos para automóviles o hipotecas) y líneas de crédito (por ejemplo, tarjetas de crédito).\n",
    "  - integer\n",
    "* - NumberOfTimes90DaysLate\n",
    "  - veces_mora_90_dias\n",
    "  - Número de veces que el prestatario ha acumulado un retraso de 90 días o más en el pago.\n",
    "  - integer\n",
    "* - NumberRealEstateLoansOrLines\n",
    "  - num_prestamos_inmobiliarios\n",
    "  - Número de préstamos hipotecarios e inmobiliarios, incluidas las líneas de crédito con garantía hipotecaria.\n",
    "  - integer\n",
    "* - NumberOfTime60-89DaysPastDueNotWorse\n",
    "  - veces_mora_60_89_dias_2anios\n",
    "  - Número de veces que el prestatario ha tenido un retraso de entre 60 y 89 días, pero sin agravarse, en los últimos dos años.\n",
    "  - integer\n",
    "* - NumberOfDependents\n",
    "  - num_dependientes\n",
    "  - Número de personas a cargo en la familia, excluyéndose a sí mismos (cónyuge, hijos, etc.).\n",
    "  - integer\n"
   ]
  },
  {
   "cell_type": "code",
   "execution_count": 12,
   "id": "0c956edd",
   "metadata": {},
   "outputs": [
    {
     "name": "stdout",
     "output_type": "stream",
     "text": [
      "Bermudez p\n"
     ]
    }
   ],
   "source": [
    "print('Bermudez p')"
   ]
  }
 ],
 "metadata": {
  "kernelspec": {
   "display_name": "pf_ml_venv",
   "language": "python",
   "name": "python3"
  },
  "language_info": {
   "codemirror_mode": {
    "name": "ipython",
    "version": 3
   },
   "file_extension": ".py",
   "mimetype": "text/x-python",
   "name": "python",
   "nbconvert_exporter": "python",
   "pygments_lexer": "ipython3",
   "version": "3.11.13"
  }
 },
 "nbformat": 4,
 "nbformat_minor": 5
}
